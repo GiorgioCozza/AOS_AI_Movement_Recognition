{
 "cells": [
  {
   "cell_type": "code",
   "execution_count": 110,
   "metadata": {},
   "outputs": [],
   "source": [
    "import os\n",
    "import csv\n",
    "import seaborn as sns\n",
    "import copy as cp\n",
    "import numpy as np\n",
    "from sklearn import metrics\n",
    "from matplotlib import pyplot as plt\n",
    "import pandas as pd"
   ]
  },
  {
   "cell_type": "code",
   "execution_count": 130,
   "metadata": {},
   "outputs": [
    {
     "name": "stdout",
     "output_type": "stream",
     "text": [
      "[LOG]: Extract samples from file: supine_24-02-2020_125443.txt\n"
     ]
    }
   ],
   "source": [
    "activity = 'supine'\n",
    "dir_path = os.getcwd()\n",
    "\n",
    "act_filename = activity + '.txt'\n",
    "actfile_dir = os.path.join(dir_path, 'activity_files')\n",
    "actfile_path = os.path.join(dir_path, act_filename)\n",
    "\n",
    "with open(actfile_path, mode='w', newline='') as fw:\n",
    "    csv_wrt = csv.writer(fw, delimiter=' ')\n",
    "    for file in os.listdir(actfile_dir):\n",
    "        if file.startswith(activity):\n",
    "            print('[LOG]: Extract samples from file: ' + file)\n",
    "            filepath = os.path.join(actfile_dir, file)\n",
    "            with open(filepath, mode='r') as fr:\n",
    "                csv_rd = csv.reader(fr, delimiter=',')\n",
    "                for line in csv_rd:\n",
    "                    if len(line) == 13:\n",
    "                        rd = [float(line[i].replace(' ','')) for i in range(0,len(line))]\n",
    "                        rd = list(map(int, rd))\n",
    "                        rd = rd[1:]\n",
    "                        csv_wrt.writerow(rd)\n",
    "            fr.close()\n",
    "fw.close()"
   ]
  },
  {
   "cell_type": "code",
   "execution_count": 82,
   "metadata": {},
   "outputs": [
    {
     "data": {
      "text/plain": [
       "[0, 1, 2, 3, 4, 5, 6, 7, 8, 9]"
      ]
     },
     "execution_count": 82,
     "metadata": {},
     "output_type": "execute_result"
    }
   ],
   "source": [
    "rd = [i for i in range(0,10)]\n",
    "rd"
   ]
  },
  {
   "cell_type": "code",
   "execution_count": 133,
   "metadata": {
    "scrolled": false
   },
   "outputs": [
    {
     "data": {
      "image/png": "[encoded data removed]",
      "text/plain": [
       "<Figure size 432x288 with 1 Axes>"
      ]
     },
     "metadata": {},
     "output_type": "display_data"
    }
   ],
   "source": [
    "ds_model = {\"ACC_LSM6DSL_DS\": {\"x\": [], \"y\": [], \"z\": []}, \"GYR_LSM6DSL_DS\": {\"x\": [], \"y\": [], \"z\": []},\n",
    "                   \"ACC_LSM303AGR_DS\": {\"x\": [], \"y\": [], \"z\": []}, \"MAG_LSM303AGR_DS\": {\"x\": [], \"y\": [], \"z\": []}}\n",
    "SENSORS = [\"ACC_LSM6DSL_DS\", \"GYR_LSM6DSL_DS\", \"ACC_LSM303AGR_DS\", \"MAG_LSM303AGR_DS\"]\n",
    "AXIS = [\"x\", \"y\", \"z\"]\n",
    "session_dir = \"activity_files\"\n",
    "LABELS = [\"running\",\n",
    "          \"walking\",\n",
    "          \"jumping\",\n",
    "          \"standing\",\n",
    "          \"sitting\",\n",
    "          \"sit_ups\",\n",
    "          \"supine\",\n",
    "          \"lying_on_side\"]\n",
    "\n",
    "def get_activity_session(filename):\n",
    "\n",
    "    res = cp.deepcopy(ds_model)\n",
    "\n",
    "    print('[LOG]: Extract samples from session file: ' + filename)\n",
    "    filepath = os.path.join(session_dir, filename)\n",
    "    with open(filepath, mode='r') as fr:\n",
    "        csv_rd = csv.reader(fr, delimiter=',')\n",
    "        r_count = 1\n",
    "        for line in csv_rd:\n",
    "            if len(line) == 13:\n",
    "                rd = [float(line[i].replace(' ', '')) for i in range(0, len(line))]\n",
    "                rd = list(map(int, rd))\n",
    "                rd = rd[1:]\n",
    "\n",
    "                v_count = 0\n",
    "                for s in SENSORS:\n",
    "                    for a in AXIS:\n",
    "                        if v_count == 12:\n",
    "                            v_count = 0\n",
    "                            r_count += 1\n",
    "                        res[s][a].append(rd[v_count])\n",
    "                        v_count += 1\n",
    "    res['ts'] = [i for i in range(1,r_count+1)]\n",
    "    fr.close()\n",
    "\n",
    "    return res\n",
    "\n",
    "\n",
    "def plot_temporal_activity(filepath, limit=0):\n",
    "\n",
    "    ds_view = get_activity_session(filepath)\n",
    "    ds_view['ts'] = [i for i in range(1,len(ds_view[SENSORS[0]]['x'])+1)]\n",
    "    session = filepath.split('/')[-1]\n",
    "\n",
    "    for sens in SENSORS:\n",
    "\n",
    "        fig, (ax0, ax1, ax2) = plt.subplots(nrows=3, figsize=(15,10), sharex=True)\n",
    "        \n",
    "        if limit > 0:\n",
    "            plot_axis(ax0, ds_view['ts'][:limit], ds_view[sens]['x'][:limit], 'X')\n",
    "            plot_axis(ax1, ds_view['ts'][:limit], ds_view[sens]['y'][:limit], 'Y')\n",
    "            plot_axis(ax2, ds_view['ts'][:limit], ds_view[sens]['z'][:limit], 'Z')\n",
    "        else:\n",
    "            plot_axis(ax0, ds_view['ts'], ds_view[sens]['x'], 'X')\n",
    "            plot_axis(ax1, ds_view['ts'], ds_view[sens]['y'], 'Y')\n",
    "            plot_axis(ax2, ds_view['ts'], ds_view[sens]['z'], 'Z')\n",
    "            \n",
    "        plt.subplots_adjust(hspace=0.2)\n",
    "        fig.suptitle(sens)\n",
    "        plt.subplots_adjust(top=0.90)\n",
    "        plt.show()\n",
    "\n",
    "\n",
    "def plot_axis(ax, x, y, title):\n",
    "\n",
    "    ax.plot(x, y, 'r')\n",
    "    ax.set_title(title)\n",
    "    ax.xaxis.set_visible(False)\n",
    "    ax.set_ylim([min(y) - np.std(y), max(y) + np.std(y)])\n",
    "    ax.set_xlim([min(x), max(x)])\n",
    "    ax.grid(True)\n",
    "\n",
    "    \n",
    "\n",
    "def show_activities_histogram():\n",
    "    plt.style.use('ggplot')\n",
    "    smp_cnt = []\n",
    "    activities = []\n",
    "    for act in LABELS:\n",
    "        file_path = act+'.txt'\n",
    "        if os.path.exists(file_path):\n",
    "            smp_cnt.append(len(open(file_path, mode='r').readlines()))\n",
    "            activities.append(act)\n",
    "\n",
    "    x= pd.Series(smp_cnt, index=activities)\n",
    "    x.plot(kind='bar', grid=True)   \n",
    "    \n",
    "    \n",
    "\n",
    "act_filename = 'lying_on_side_24-02-2020_134922.txt'\n",
    "actfile_dir = os.path.join(dir_path, 'activity_files')\n",
    "actfile_path = os.path.join(actfile_dir, act_filename)\n",
    "\n",
    "show_activities_histogram()\n",
    "#plot_temporal_activity(actfile_path, limit=50)"
   ]
  },
  {
   "cell_type": "code",
   "execution_count": null,
   "metadata": {},
   "outputs": [],
   "source": []
  },
  {
   "cell_type": "code",
   "execution_count": null,
   "metadata": {},
   "outputs": [],
   "source": []
  }
 ],
 "metadata": {
  "kernelspec": {
   "display_name": "Python 3",
   "language": "python",
   "name": "python3"
  },
  "language_info": {
   "codemirror_mode": {
    "name": "ipython",
    "version": 3
   },
   "file_extension": ".py",
   "mimetype": "text/x-python",
   "name": "python",
   "nbconvert_exporter": "python",
   "pygments_lexer": "ipython3",
   "version": "3.7.5"
  }
 },
 "nbformat": 4,
 "nbformat_minor": 2
}
